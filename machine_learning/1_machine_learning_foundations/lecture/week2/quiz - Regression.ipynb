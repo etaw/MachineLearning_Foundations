{
 "cells": [
  {
   "cell_type": "markdown",
   "metadata": {},
   "source": [
    "<img src=\"images/lec2_pic01.png\">\n",
    "<img src=\"images/lec2_pic02.png\">\n",
    "<img src=\"images/lec2_pic03.png\">\n",
    "<img src=\"images/lec2_pic04.png\">\n",
    "<img src=\"images/lec2_pic05.png\">\n",
    "<img src=\"images/lec2_pic06.png\">\n",
    "<img src=\"images/lec2_pic07.png\">\n",
    "<img src=\"images/lec2_pic08.png\">\n",
    "<img src=\"images/lec2_pic09.png\">\n",
    "<img src=\"images/lec2_pic10.png\">\n",
    "\n",
    "*Screenshot taken from [Coursera](https://www.coursera.org/learn/ml-foundations/exam/3zoDg/regression)*\n",
    "\n",
    "<!--TEASER_END-->"
   ]
  }
 ],
 "metadata": {
  "kernelspec": {
   "display_name": "Python 2",
   "language": "python",
   "name": "python2"
  },
  "language_info": {
   "codemirror_mode": {
    "name": "ipython",
    "version": 2
   },
   "file_extension": ".py",
   "mimetype": "text/x-python",
   "name": "python",
   "nbconvert_exporter": "python",
   "pygments_lexer": "ipython2",
   "version": "2.7.10"
  }
 },
 "nbformat": 4,
 "nbformat_minor": 0
}
