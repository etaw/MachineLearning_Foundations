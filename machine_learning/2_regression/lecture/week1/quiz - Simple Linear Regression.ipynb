{
 "cells": [
  {
   "cell_type": "markdown",
   "metadata": {},
   "source": [
    "# Question 1"
   ]
  },
  {
   "cell_type": "markdown",
   "metadata": {},
   "source": [
    "<img src=\"images/lec1_pic33.png\">\n",
    "\n",
    "*Screenshot taken from [Coursera](https://www.coursera.org/learn/ml-regression/exam/Y86x5/simple-linear-regression)*\n",
    "\n",
    "<!--TEASER_END-->"
   ]
  },
  {
   "cell_type": "markdown",
   "metadata": {},
   "source": [
    "# Question 2"
   ]
  },
  {
   "cell_type": "markdown",
   "metadata": {},
   "source": [
    "<img src=\"images/lec1_pic34.png\">\n",
    "\n",
    "*Screenshot taken from [Coursera](https://www.coursera.org/learn/ml-regression/exam/Y86x5/simple-linear-regression)*\n",
    "\n",
    "<!--TEASER_END-->"
   ]
  },
  {
   "cell_type": "markdown",
   "metadata": {},
   "source": [
    "# Question 3"
   ]
  },
  {
   "cell_type": "markdown",
   "metadata": {},
   "source": [
    "<img src=\"images/lec1_pic35.png\">\n",
    "\n",
    "*Screenshot taken from [Coursera](https://www.coursera.org/learn/ml-regression/exam/Y86x5/simple-linear-regression)*\n",
    "\n",
    "<!--TEASER_END-->"
   ]
  },
  {
   "cell_type": "markdown",
   "metadata": {},
   "source": [
    "# Question 4"
   ]
  },
  {
   "cell_type": "markdown",
   "metadata": {},
   "source": [
    "<img src=\"images/lec1_pic36.png\">\n",
    "\n",
    "*Screenshot taken from [Coursera](https://www.coursera.org/learn/ml-regression/exam/Y86x5/simple-linear-regression)*\n",
    "\n",
    "<!--TEASER_END-->"
   ]
  },
  {
   "cell_type": "markdown",
   "metadata": {},
   "source": [
    "**Answer**\n",
    "\n",
    "price = $4569 + 143 * M$\n",
    "\n",
    "where M is the month index (1, 2, 3, etc.). So, in month 10:\n",
    "\n",
    "price = $ 4569 + 143 * 10 = 4569 + 1430 = 5999$\n",
    "\n",
    "The question is for what value M this price will have doubled. So this is the function you have to solve:\n",
    "\n",
    "$(5999*2) = 4569 + 143*M$\n",
    "\n",
    "M = (11998 - 4569)/143 = 51.95"
   ]
  },
  {
   "cell_type": "markdown",
   "metadata": {},
   "source": [
    "# Question 5"
   ]
  },
  {
   "cell_type": "markdown",
   "metadata": {},
   "source": [
    "<img src=\"images/lec1_pic37.png\">\n",
    "\n",
    "*Screenshot taken from [Coursera](https://www.coursera.org/learn/ml-regression/exam/Y86x5/simple-linear-regression)*\n",
    "\n",
    "<!--TEASER_END-->"
   ]
  },
  {
   "cell_type": "markdown",
   "metadata": {},
   "source": [
    "**Discussion**\n",
    "- https://www.coursera.org/learn/ml-regression/module/9crXk/discussions/CgEG9pqHEeW9ThKFn3E1-Q\n",
    "- https://www.coursera.org/learn/ml-regression/module/9crXk/discussions/65gmlJuuEeW4ihIO4Pzp8Q\n",
    "- https://www.coursera.org/learn/ml-regression/module/9crXk/discussions/72qn8pe0EeWNbBIwwhtGwQ"
   ]
  },
  {
   "cell_type": "markdown",
   "metadata": {},
   "source": [
    "**Answer 1**\n",
    "\n",
    "to solve these two questions smoothly you should focus on the interpretation of the intercept and slope.\n",
    "\n",
    "intercept could be understood as the price of house with 0 feet^2 so it should be the same for zero meter^2 house.\n",
    "\n",
    "the slope could be considered -because it is positive- as the increase of price per 1 feet^2 so the slope should change and it is intuitive that it should be greater than the previous one because the meter is larger than the feet so the price will increase per one meter^2 more than per feet^2 and to get the new slope you should divide the given slope by 0.092903\n",
    "\n",
    "\n",
    "**Answer 2**\n",
    "\n",
    "I'm also having trouble getting the grader to accept my input for question 5, so I want to talk through my logic here:\n",
    "\n",
    "The question gives you an intercept parameter, b, which is in dollars, and a slope, which is in dollars/feet^2. It asks you to rescale the house-size dimension, using m^2 instead of foot^2. It tells you how many m^2 there are in a foot^2, let's call this C. The calculation we want involves how many feet^2 are in a m^2, which means we should divide the given slope by the number of m^2 in a foot^2. On the other hand, dollars don't change, so the intercept shouldn't be changed. So the over all formula I'm using is:\n",
    "\n",
    "y = (m/C) x + b\n",
    "\n",
    "That makes sense, right? The answer I'm giving is [b, m/C] rounded as they ask for, and I'm getting the question wrong."
   ]
  },
  {
   "cell_type": "markdown",
   "metadata": {},
   "source": [
    "# Question 6"
   ]
  },
  {
   "cell_type": "markdown",
   "metadata": {},
   "source": [
    "<img src=\"images/lec1_pic38.png\">\n",
    "\n",
    "*Screenshot taken from [Coursera](https://www.coursera.org/learn/ml-regression/exam/Y86x5/simple-linear-regression)*\n",
    "\n",
    "<!--TEASER_END-->"
   ]
  },
  {
   "cell_type": "markdown",
   "metadata": {},
   "source": [
    "**Discussion**\n",
    "\n",
    "- https://www.coursera.org/learn/ml-regression/module/9crXk/discussions/3dE6iJi0EeWy0Q7ABZMsnQ\n",
    "- https://www.coursera.org/learn/ml-regression/module/9crXk/discussions/3dE6iJi0EeWy0Q7ABZMsnQ\n",
    "\n",
    "**Answer**\n",
    "\n",
    "The model does Dollars + Dollars / Square Foot... To convert it to Dollars + Dollars / Square Meter, you must convert it.\n",
    "\n",
    "One square foot = 0.09293 square meters. So, one square meeter is multiple square feet, right? 10.7607877 square feet, to be fairly precise. That is: 1 sq. meter / 0.09293 sq.meter per sq.ft = 10.7607877 sq.ft per sq.meter\n",
    "\n",
    "So, if the model goes up (or down) by, let's say, $250/sq.ft, then how much does it go up (or down) per meter? \n",
    "\n",
    "10.76 sq.ft/meter * $250. Since 10.76 is really 1/0.09293, you can just do 250/0.09293 to jump straight to the answer. Make sense?"
   ]
  },
  {
   "cell_type": "markdown",
   "metadata": {},
   "source": [
    "# Question 7"
   ]
  },
  {
   "cell_type": "markdown",
   "metadata": {},
   "source": [
    "<img src=\"images/lec1_pic39.png\">\n",
    "\n",
    "*Screenshot taken from [Coursera](https://www.coursera.org/learn/ml-regression/exam/Y86x5/simple-linear-regression)*\n",
    "\n",
    "<!--TEASER_END-->"
   ]
  },
  {
   "cell_type": "code",
   "execution_count": null,
   "metadata": {
    "collapsed": true
   },
   "outputs": [],
   "source": []
  }
 ],
 "metadata": {
  "kernelspec": {
   "display_name": "Python 2",
   "language": "python",
   "name": "python2"
  },
  "language_info": {
   "codemirror_mode": {
    "name": "ipython",
    "version": 2
   },
   "file_extension": ".py",
   "mimetype": "text/x-python",
   "name": "python",
   "nbconvert_exporter": "python",
   "pygments_lexer": "ipython2",
   "version": "2.7.10"
  }
 },
 "nbformat": 4,
 "nbformat_minor": 0
}
