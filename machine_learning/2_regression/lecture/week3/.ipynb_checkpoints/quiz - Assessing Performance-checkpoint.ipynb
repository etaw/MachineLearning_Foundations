{
 "cells": [
  {
   "cell_type": "markdown",
   "metadata": {},
   "source": [
    "<img src=\"images/lec3_pic67.png\">\n",
    "<img src=\"images/lec3_pic68.png\">\n",
    "*Screenshot taken from [Coursera](https://www.coursera.org/learn/ml-regression/exam/vveUj/assessing-performance)*\n",
    "\n",
    "<!--TEASER_END-->"
   ]
  },
  {
   "cell_type": "markdown",
   "metadata": {},
   "source": [
    "**Explaination**\n",
    "\n",
    "If the features of Model 1 are a strict subset of those in Model 2?\n",
    "- It would mean that Model2 is built using features those were used for Model1, but Model2 also used additional features those were not used for Model1."
   ]
  },
  {
   "cell_type": "markdown",
   "metadata": {},
   "source": [
    "\n",
    "<img src=\"images/lec3_pic69.png\">\n",
    "<img src=\"images/lec3_pic70.png\">\n",
    "<img src=\"images/lec3_pic71.png\">\n",
    "<img src=\"images/lec3_pic72.png\">\n",
    "\n",
    "*Screenshot taken from [Coursera](https://www.coursera.org/learn/ml-regression/exam/vveUj/assessing-performance)*\n",
    "\n",
    "<!--TEASER_END-->"
   ]
  }
 ],
 "metadata": {
  "kernelspec": {
   "display_name": "Python 2",
   "language": "python",
   "name": "python2"
  },
  "language_info": {
   "codemirror_mode": {
    "name": "ipython",
    "version": 2
   },
   "file_extension": ".py",
   "mimetype": "text/x-python",
   "name": "python",
   "nbconvert_exporter": "python",
   "pygments_lexer": "ipython2",
   "version": "2.7.10"
  }
 },
 "nbformat": 4,
 "nbformat_minor": 0
}
